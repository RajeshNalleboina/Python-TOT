{
 "cells": [
  {
   "cell_type": "markdown",
   "metadata": {},
   "source": [
    "# Functions :\n"
   ]
  },
  {
   "cell_type": "code",
   "execution_count": 1,
   "metadata": {},
   "outputs": [
    {
     "data": {
      "text/plain": [
       "5"
      ]
     },
     "execution_count": 1,
     "metadata": {},
     "output_type": "execute_result"
    }
   ],
   "source": [
    "def add(a,b):\n",
    "    return a+b\n",
    "add(2,3)"
   ]
  },
  {
   "cell_type": "code",
   "execution_count": 4,
   "metadata": {},
   "outputs": [
    {
     "name": "stdout",
     "output_type": "stream",
     "text": [
      "Enter A value9\n"
     ]
    },
    {
     "data": {
      "text/plain": [
       "False"
      ]
     },
     "execution_count": 4,
     "metadata": {},
     "output_type": "execute_result"
    }
   ],
   "source": [
    "# Check the given number is even or not\n",
    "\n",
    "a=int(input(\"Enter A value\"))\n",
    "def even(a):\n",
    "    if a%2==0:\n",
    "        return True\n",
    "    return False\n",
    "even(a)\n",
    "    "
   ]
  },
  {
   "cell_type": "code",
   "execution_count": 26,
   "metadata": {},
   "outputs": [
    {
     "name": "stdout",
     "output_type": "stream",
     "text": [
      "Enter n Value21\n"
     ]
    },
    {
     "data": {
      "text/plain": [
       "(21, ' Is not prime')"
      ]
     },
     "execution_count": 26,
     "metadata": {},
     "output_type": "execute_result"
    }
   ],
   "source": [
    "# Print the given number is Prime or not\n",
    "\n",
    "n=int(input(\"Enter n Value\"))\n",
    "\n",
    "def primeNumer():\n",
    "    for i in range(2,n):\n",
    "        if n%i==0:\n",
    "            return(n,' Is not prime')\n",
    "    return (n,' Is prime')\n",
    "primeNumer()\n",
    "            "
   ]
  },
  {
   "cell_type": "code",
   "execution_count": 36,
   "metadata": {},
   "outputs": [
    {
     "name": "stdout",
     "output_type": "stream",
     "text": [
      "Enter the value3\n"
     ]
    },
    {
     "data": {
      "text/plain": [
       "'Sorry'"
      ]
     },
     "execution_count": 36,
     "metadata": {},
     "output_type": "execute_result"
    }
   ],
   "source": [
    "# Find the Factorial of a given Number\n",
    "\n",
    "value=int(input(\"Enter the value\"))\n",
    "def factorial(value):\n",
    "    fact=1\n",
    "    for i in range(1,value+1):\n",
    "        fact=fact*i;\n",
    "    return fact\n",
    "\n",
    "def factorialOfEvenNum():\n",
    "    if value%2==0:\n",
    "        print(factorial(value))\n",
    "    return \"Sorry\"\n",
    "        \n",
    "factorialOfEvenNum()\n",
    "\n",
    "\n"
   ]
  },
  {
   "cell_type": "code",
   "execution_count": 40,
   "metadata": {},
   "outputs": [
    {
     "data": {
      "text/plain": [
       "0.5"
      ]
     },
     "execution_count": 40,
     "metadata": {},
     "output_type": "execute_result"
    }
   ],
   "source": [
    "# develop a function addition of 2 numbers\n",
    "\n",
    "def addition(a,b):\n",
    "    return a+b\n",
    "addition(2,3)\n",
    "\n",
    "def devision(a,b):\n",
    "    return a/b\n",
    "devision(2,4)"
   ]
  },
  {
   "cell_type": "code",
   "execution_count": 24,
   "metadata": {},
   "outputs": [
    {
     "name": "stdout",
     "output_type": "stream",
     "text": [
      "217\n"
     ]
    }
   ],
   "source": [
    "# SUm of numbers\n",
    "marks=[12,43,43,54,65]\n",
    "#global totalMarks=0\n",
    "def sunOfMarks(data):\n",
    "    totalMarks=0\n",
    "    for i in data:\n",
    "        totalMarks=totalMarks+i\n",
    "    print(totalMarks)\n",
    "     \n",
    "sunOfMarks(marks)\n"
   ]
  },
  {
   "cell_type": "code",
   "execution_count": null,
   "metadata": {},
   "outputs": [],
   "source": []
  }
 ],
 "metadata": {
  "kernelspec": {
   "display_name": "Python 3",
   "language": "python",
   "name": "python3"
  }
 },
 "nbformat": 4,
 "nbformat_minor": 2
}
