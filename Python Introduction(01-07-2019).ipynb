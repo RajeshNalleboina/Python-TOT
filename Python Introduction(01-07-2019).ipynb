{
 "cells": [
  {
   "cell_type": "markdown",
   "metadata": {},
   "source": [
    "# Python :\n",
    "---\n",
    "\n",
    "## Introduction :\n",
    "\n",
    "+ Python is a high-level, interpreted, interactive and object-oriented scripting language.\n",
    "+ Python is designed to be highly readable\n",
    "\n",
    "###### Interpreted :\n",
    "   \n",
    "+ Python is processed at runtime by the interpreter. You do not need to compile your program before executing it\n",
    "\n",
    "###### Interactive :\n",
    "\n",
    "+ Python prompt and interact with the interpreter directly to write your programs\n",
    "\n",
    "###### Object-Oriented :\n",
    "\n",
    "+ Python supports Object-Oriented style or technique of programming that encapsulates code within objects\n",
    "\n",
    "\n",
    "### Features of Python :\n",
    "\n",
    "+ **Easy-to-Learn :** Python has few keywords, simple strecture and clearly defined syntax\n",
    "\n",
    "+ **Easy-to-Read :** Python code is more clearly defined and visible to the eyes\n",
    "+ **Easy-to-maintain :** Python source code is easy to maintain\n",
    "+ **Standard Library :** Python's bulk of the library is very portable and cross-platform compatible on UNIX, Windows\n",
    "+ **Interactive Mode :** Python has support for an interactive mode which allows interactive testing and debugging of snippets of code\n",
    "+ **Portable :** Python can run on a wide variety of hardware platforms and has the same interface on all platforms\n",
    "\n",
    "\n",
    "## Reserved Key Words in Python ?\n",
    "\n",
    "+ **and :** It's used for comparing two values/ given two conditions are ture\n",
    "+ **assert :**\n",
    "+ **break :** It's used to break the statement\n",
    "+ **class :**\n",
    "+ **continue :** \n",
    "+ **def :** Defining the functions\n",
    "+ **del :** Delete the data using **del** single variable or multiple variables\n",
    "\n",
    "    **Ex :** del a / del a,b\n",
    "+ **elif :** Else if condition\n",
    "+ **else :** Else condition\n",
    "+ **except :**\n",
    "+ **exec :**\n",
    "+ **finally :**\n",
    "+ **for :** It's a loop\n",
    "+ **from :**\n",
    "+ **global :**\n",
    "+ **if :** If condition\n",
    "+ **in :**\n",
    "+ **is :** \n",
    "+ **lambda :** A lambda operator or lambda function is used for creating small, one-time, anonymous function objects in Python\n",
    "\n",
    "    A lambda operator can have any number of arguments but can have only one expression. It cannot contain any statements and returns a function object which can be assigned to any variable\n",
    "+ **not :** \n",
    "+ **or :** \n",
    "+ **pass :**\n",
    "+ **print :**\n",
    "+ **raise :**\n",
    "+ **return :**\n",
    "+ **try :**\n",
    "+ **while :**\n",
    "+ **with :**\n",
    "+ **yield :** We should use yield when we want to iterate over a sequence, but don’t want to store the entire sequence in memory\n",
    "\n",
    "\n",
    "### What is Variable & Type of variables ?\n",
    "\n",
    "Python variables do not need explicit declaration to reserve memory space. The declaration happens automatically when you assign a value to a variable\n",
    "\n",
    "1. **Single Assignment :** a=10, b=100.2, c='Rajesh'1.\n",
    "2. **Multiple Assignment :** a=b=c=5, a,b,c=2,2.5,'rajesh'\n",
    "\n",
    "## Standard Data Types :\n",
    "\n",
    "   + Numbers\n",
    "   + String (str)\n",
    "   + List\n",
    "   + Tupple\n",
    "   + Dictionary\n",
    "\n",
    "\n",
    "### What is List ?\n",
    "\n",
    "  +  List is an ordered sequence of items. All the items in a list do not need to be of the same type\n",
    "  \n",
    "  **Ex :** a=[1,2.2,'Rajesh']\n",
    "  \n",
    "### What is Tupple ?\n",
    "\n",
    "  + It is a collection which is ordered and unchangeable. In Python tuples are written with round brackets\n",
    "       **or**\n",
    "   + Tuple is an ordered sequence of items same as list.The only difference is that tuples are immutable. Tuples once created cannot be modified\n",
    "  \n",
    "  ****Ex :**** \n",
    "thistuple = (\"apple\", \"banana\", \"cherry\")\n",
    "print(thistuple)\n",
    "\n",
    "\n",
    "\n",
    "\n",
    "\n",
    "\n",
    "\n",
    "\n",
    "\n"
   ]
  },
  {
   "cell_type": "code",
   "execution_count": 10,
   "metadata": {},
   "outputs": [
    {
     "name": "stdout",
     "output_type": "stream",
     "text": [
      "Hello Rajesh\n",
      "H\n",
      "Rajesh\n"
     ]
    }
   ],
   "source": [
    "str='Hello Rajesh'\n",
    "print (str) # print entire string\n",
    "print (str[0]) # print the first letter\n",
    "print (str[6:12]) # Print the letters from 6 to 12"
   ]
  },
  {
   "cell_type": "code",
   "execution_count": 12,
   "metadata": {},
   "outputs": [
    {
     "name": "stdout",
     "output_type": "stream",
     "text": [
      "(1+2j) is complex number? True\n"
     ]
    }
   ],
   "source": [
    "a = 1+2j\n",
    "print(a, \"is complex number?\", isinstance(1+2j,complex))"
   ]
  },
  {
   "cell_type": "code",
   "execution_count": null,
   "metadata": {},
   "outputs": [],
   "source": []
  }
 ],
 "metadata": {
  "kernelspec": {
   "display_name": "Python 3",
   "language": "python",
   "name": "python3"
  },
  "language_info": {
   "codemirror_mode": {
    "name": "ipython",
    "version": 3
   },
   "file_extension": ".py",
   "mimetype": "text/x-python",
   "name": "python",
   "nbconvert_exporter": "python",
   "pygments_lexer": "ipython3",
   "version": "3.7.3"
  }
 },
 "nbformat": 4,
 "nbformat_minor": 2
}
