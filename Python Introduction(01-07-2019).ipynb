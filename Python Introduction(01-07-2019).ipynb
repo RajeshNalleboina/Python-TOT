{
 "cells": [
  {
   "cell_type": "markdown",
   "metadata": {},
   "source": [
    "# Python :\n",
    "---\n",
    "\n",
    "## Introduction :\n",
    "\n",
    "+ Python is a high-level, interpreted, interactive and object-oriented scripting language.\n",
    "+ Python is designed to be highly readable\n",
    "\n",
    "###### Interpreted :\n",
    "   \n",
    "+ Python is processed at runtime by the interpreter. You do not need to compile your program before executing it\n",
    "\n",
    "###### Interactive :\n",
    "\n",
    "+ Python prompt and interact with the interpreter directly to write your programs\n",
    "\n",
    "###### Object-Oriented :\n",
    "\n",
    "+ Python supports Object-Oriented style or technique of programming that encapsulates code within objects\n",
    "\n",
    "\n",
    "### Features of Python :\n",
    "\n",
    "+ **Easy-to-Learn :** Python has few keywords, simple strecture and clearly defined syntax\n",
    "\n",
    "+ **Easy-to-Read :** Python code is more clearly defined and visible to the eyes\n",
    "+ **Easy-to-maintain :** Python source code is easy to maintain\n",
    "+ **Standard Library :** Python's bulk of the library is very portable and cross-platform compatible on UNIX, Windows\n",
    "+ **Interactive Mode :** Python has support for an interactive mode which allows interactive testing and debugging of snippets of code\n",
    "+ **Portable :** Python can run on a wide variety of hardware platforms and has the same interface on all platforms\n",
    "\n",
    "\n",
    "\n",
    "\n",
    "\n"
   ]
  },
  {
   "cell_type": "code",
   "execution_count": null,
   "metadata": {},
   "outputs": [],
   "source": []
  }
 ],
 "metadata": {
  "kernelspec": {
   "display_name": "Python 3",
   "language": "python",
   "name": "python3"
  },
  "language_info": {
   "codemirror_mode": {
    "name": "ipython",
    "version": 3
   },
   "file_extension": ".py",
   "mimetype": "text/x-python",
   "name": "python",
   "nbconvert_exporter": "python",
   "pygments_lexer": "ipython3",
   "version": "3.7.3"
  }
 },
 "nbformat": 4,
 "nbformat_minor": 2
}
