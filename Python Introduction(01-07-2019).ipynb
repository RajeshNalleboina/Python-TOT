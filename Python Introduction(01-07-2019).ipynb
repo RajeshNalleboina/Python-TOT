{
 "cells": [
  {
   "cell_type": "markdown",
   "metadata": {},
   "source": [
    "# Python :\n",
    "---\n",
    "\n",
    "## Introduction :\n",
    "\n",
    "+ Python is a high-level, interpreted, interactive and object-oriented scripting language.\n",
    "+ Python is designed to be highly readable\n",
    "\n",
    "###### Interpreted :\n",
    "   \n",
    "+ Python is processed at runtime by the interpreter. You do not need to compile your program before executing it\n",
    "\n",
    "###### Interactive :\n",
    "\n",
    "+ Python prompt and interact with the interpreter directly to write your programs\n",
    "\n",
    "###### Object-Oriented :\n",
    "\n",
    "+ Python supports Object-Oriented style or technique of programming that encapsulates code within objects\n",
    "\n",
    "\n",
    "### Features of Python :\n",
    "\n",
    "+ **Easy-to-Learn :** Python has few keywords, simple strecture and clearly defined syntax\n",
    "\n",
    "+ **Easy-to-Read :** Python code is more clearly defined and visible to the eyes\n",
    "+ **Easy-to-maintain :** Python source code is easy to maintain\n",
    "+ **Standard Library :** Python's bulk of the library is very portable and cross-platform compatible on UNIX, Windows\n",
    "+ **Interactive Mode :** Python has support for an interactive mode which allows interactive testing and debugging of snippets of code\n",
    "+ **Portable :** Python can run on a wide variety of hardware platforms and has the same interface on all platforms\n",
    "\n",
    "\n",
    "## Reserved Key Words in Python ?\n",
    "\n",
    "+ **and :** It's used for comparing two values/ given two conditions are ture\n",
    "+ **assert :**\n",
    "+ **break :** It's used to break the statement\n",
    "+ **class :**\n",
    "+ **continue :** \n",
    "+ **def :** Defining the functions\n",
    "+ **del :** Delete the data using **del** single variable or multiple variables\n",
    "\n",
    "    **Ex :** del a / del a,b\n",
    "+ **elif :** Else if condition\n",
    "+ **else :** Else condition\n",
    "+ **except :**\n",
    "+ **exec :**\n",
    "+ **finally :**\n",
    "+ **for :** It's a loop\n",
    "+ **from :**\n",
    "+ **global :**\n",
    "+ **if :** If condition\n",
    "+ **in :**\n",
    "+ **is :** \n",
    "+ **lambda :** A lambda operator or lambda function is used for creating small, one-time, anonymous function objects in Python\n",
    "\n",
    "    A lambda operator can have any number of arguments but can have only one expression. It cannot contain any statements and returns a function object which can be assigned to any variable\n",
    "+ **not :** \n",
    "+ **or :** \n",
    "+ **pass :**\n",
    "+ **print :**\n",
    "+ **raise :**\n",
    "+ **return :**\n",
    "+ **try :**\n",
    "+ **while :**\n",
    "+ **with :**\n",
    "+ **yield :** We should use yield when we want to iterate over a sequence, but don’t want to store the entire sequence in memory\n",
    "\n",
    "\n",
    "### What is Variable & Type of variables ?\n",
    "\n",
    "Python variables do not need explicit declaration to reserve memory space. The declaration happens automatically when you assign a value to a variable\n",
    "\n",
    "1. **Single Assignment :** a=10, b=100.2, c='Rajesh'1.\n",
    "2. **Multiple Assignment :** a=b=c=5, a,b,c=2,2.5,'rajesh'\n",
    "\n",
    "## Standard Data Types :\n",
    "\n",
    "   + Numbers\n",
    "   + String (str)\n",
    "   + List\n",
    "   + Tupple\n",
    "   + Dictionary\n",
    "\n",
    "\n",
    "### What is List ?\n",
    "\n",
    "  +  List is an ordered sequence of items. All the items in a list do not need to be of the same type\n",
    "  \n",
    "  **Ex :** a=[1,2.2,'Rajesh']\n",
    "  \n",
    "### What is Tupple ?\n",
    "\n",
    "  + It is a collection which is ordered and unchangeable. In Python tuples are written with round brackets\n",
    "       **or**\n",
    "   + Tuple is an ordered sequence of items same as list.The only difference is that tuples are immutable. Tuples once created cannot be modified\n",
    "  \n",
    "  ****Ex :**** \n",
    "thistuple = (\"apple\", \"banana\", \"cherry\")\n",
    "print(thistuple)\n",
    "\n",
    "\n",
    "\n",
    "\n",
    "### Set :\n",
    "\n",
    "+ It is a unordered collection f unique items. It defined by values separatred by **,** inside braces **{ }**.\n",
    "\n",
    " **Ex :** a={1,2,3,4,5,4,2,3,5}   **o/p :**{1,2,3,4,5}\n",
    " \n",
    "+ It's eleminate the duplicates. Slicing operation **[]** does not work \n",
    "\n",
    "\n",
    "## Python Dictionary : \n",
    "\n",
    " +  It's unordered collection of **Key-Value** pairs\n",
    " +  Dictionaries are optimized for retrieving data\n",
    " + dictionaries are defined within braces {} with each item being a pair in the form **key:value**\n",
    "\n"
   ]
  },
  {
   "cell_type": "code",
   "execution_count": 10,
   "metadata": {},
   "outputs": [
    {
     "name": "stdout",
     "output_type": "stream",
     "text": [
      "Hello Rajesh\n",
      "H\n",
      "Rajesh\n"
     ]
    }
   ],
   "source": [
    "str='Hello Rajesh'\n",
    "print (str) # print entire string\n",
    "print (str[0]) # print the first letter\n",
    "print (str[6:12]) # Print the letters from 6 to 12"
   ]
  },
  {
   "cell_type": "code",
   "execution_count": 12,
   "metadata": {},
   "outputs": [
    {
     "name": "stdout",
     "output_type": "stream",
     "text": [
      "(1+2j) is complex number? True\n"
     ]
    }
   ],
   "source": [
    "a = 1+2j\n",
    "print(a, \"is complex number?\", isinstance(1+2j,complex))"
   ]
  },
  {
   "cell_type": "code",
   "execution_count": 1,
   "metadata": {},
   "outputs": [],
   "source": [
    "s='Hello World'"
   ]
  },
  {
   "cell_type": "code",
   "execution_count": 2,
   "metadata": {},
   "outputs": [
    {
     "data": {
      "text/plain": [
       "'l'"
      ]
     },
     "execution_count": 2,
     "metadata": {},
     "output_type": "execute_result"
    }
   ],
   "source": [
    "s[2]"
   ]
  },
  {
   "cell_type": "code",
   "execution_count": 4,
   "metadata": {},
   "outputs": [
    {
     "name": "stdout",
     "output_type": "stream",
     "text": [
      "{2, 3, 4, 5, 6, 78}\n"
     ]
    },
    {
     "data": {
      "text/plain": [
       "set"
      ]
     },
     "execution_count": 4,
     "metadata": {},
     "output_type": "execute_result"
    }
   ],
   "source": [
    "a={2,3,4,6,78,5,2,3,4,6,78,5}\n",
    "print(a)\n",
    "type(a)"
   ]
  },
  {
   "cell_type": "code",
   "execution_count": 11,
   "metadata": {},
   "outputs": [
    {
     "name": "stdout",
     "output_type": "stream",
     "text": [
      "2\n"
     ]
    }
   ],
   "source": [
    "# Dictionary\n",
    "\n",
    "d={1:'hello','key':2}\n",
    "print(d['key'])"
   ]
  },
  {
   "cell_type": "code",
   "execution_count": 15,
   "metadata": {},
   "outputs": [
    {
     "name": "stdout",
     "output_type": "stream",
     "text": [
      "{'brand': 'Ford', 'model': 'Mustang', 'year': 1964}\n"
     ]
    }
   ],
   "source": [
    "dict ={\n",
    "  \"brand\": \"Ford\",\n",
    "  \"model\": \"Mustang\",\n",
    "  \"year\": 1964\n",
    "}\n",
    "print(dict)"
   ]
  },
  {
   "cell_type": "code",
   "execution_count": 24,
   "metadata": {},
   "outputs": [
    {
     "name": "stdout",
     "output_type": "stream",
     "text": [
      "brand Ford\n",
      "model Mustang\n",
      "year 1964\n"
     ]
    }
   ],
   "source": [
    "for i in dict:\n",
    "    print(i,dict[i])\n"
   ]
  },
  {
   "cell_type": "code",
   "execution_count": 32,
   "metadata": {},
   "outputs": [
    {
     "ename": "NameError",
     "evalue": "name 'j' is not defined",
     "output_type": "error",
     "traceback": [
      "\u001b[1;31m---------------------------------------------------------------------------\u001b[0m",
      "\u001b[1;31mNameError\u001b[0m                                 Traceback (most recent call last)",
      "\u001b[1;32m<ipython-input-32-27b27563ee5c>\u001b[0m in \u001b[0;36m<module>\u001b[1;34m\u001b[0m\n\u001b[1;32m----> 1\u001b[1;33m \u001b[0mmapData\u001b[0m\u001b[1;33m=\u001b[0m\u001b[0mmap\u001b[0m\u001b[1;33m(\u001b[0m\u001b[0mj\u001b[0m\u001b[1;33m,\u001b[0m\u001b[0mdict\u001b[0m\u001b[1;33m)\u001b[0m\u001b[1;33m\u001b[0m\u001b[1;33m\u001b[0m\u001b[0m\n\u001b[0m\u001b[0;32m      2\u001b[0m \u001b[0mprint\u001b[0m\u001b[1;33m(\u001b[0m\u001b[0mj\u001b[0m\u001b[1;33m)\u001b[0m\u001b[1;33m\u001b[0m\u001b[1;33m\u001b[0m\u001b[0m\n",
      "\u001b[1;31mNameError\u001b[0m: name 'j' is not defined"
     ]
    }
   ],
   "source": [
    "mapData=map(j,dict)\n",
    "print(j)"
   ]
  },
  {
   "cell_type": "code",
   "execution_count": 35,
   "metadata": {},
   "outputs": [
    {
     "name": "stdout",
     "output_type": "stream",
     "text": [
      "heleh\n"
     ]
    },
    {
     "data": {
      "text/plain": [
       "True"
      ]
     },
     "execution_count": 35,
     "metadata": {},
     "output_type": "execute_result"
    }
   ],
   "source": [
    "s = input(\"\")\n",
    "def Pal(s):\n",
    "    if(s==s[-1::-1]):\n",
    "        return True\n",
    "    else:\n",
    "        return False\n",
    "Pal(s)"
   ]
  },
  {
   "cell_type": "code",
   "execution_count": 49,
   "metadata": {},
   "outputs": [
    {
     "name": "stdout",
     "output_type": "stream",
     "text": [
      "5\n"
     ]
    },
    {
     "data": {
      "text/plain": [
       "120"
      ]
     },
     "execution_count": 49,
     "metadata": {},
     "output_type": "execute_result"
    }
   ],
   "source": [
    "n=int(input(''))\n",
    "\n",
    "def Factorial(n):\n",
    "    fact=1\n",
    "    for i in range(1,n+1):\n",
    "        fact=fact*i\n",
    "    return fact\n",
    "Factorial(n)\n",
    "        "
   ]
  },
  {
   "cell_type": "code",
   "execution_count": 4,
   "metadata": {},
   "outputs": [
    {
     "name": "stdout",
     "output_type": "stream",
     "text": [
      "1 10 1\n",
      "10\n"
     ]
    }
   ],
   "source": [
    "#You have been given 3 integers - l, r and k. Find how many numbers between l and r (both inclusive) are divisible by k. You do not need to print these numbers, you just have to find their count.\n",
    "\n",
    "#Input Format\n",
    "#The first and only line of input contains 3 space separated integers l, r and k.\n",
    "\n",
    "#Output Format\n",
    "#Print the required answer on a single line  \n",
    "\n",
    "# i/p : 1 10 1  o/p: 10\n",
    "\n",
    "\n",
    "def Count_Divisors(l):\n",
    "    #print(l)\n",
    "    x=int(l[0])\n",
    "    r=int(l[1])\n",
    "    k=int(l[2])\n",
    "    #print(k)\n",
    "    counter=0\n",
    "    for i in range(x,r+1):\n",
    "        if i%k==0:\n",
    "            counter=counter+1\n",
    "    print(counter)\n",
    "    \n",
    "l=input().split()\n",
    "\n",
    "Count_Divisors(l)"
   ]
  },
  {
   "cell_type": "code",
   "execution_count": 9,
   "metadata": {},
   "outputs": [
    {
     "name": "stdout",
     "output_type": "stream",
     "text": [
      "asdfGHJ\n",
      "ASDFghj\n"
     ]
    }
   ],
   "source": [
    "#You have been given a String S consisting of uppercase and lowercase English alphabets. You need to change the case of each alphabet in this String. That is, all the uppercase letters should be converted to lowercase and all the lowercase letters should be converted to uppercase. You need to then print the resultant String to output.\n",
    "\n",
    "#Input Format\n",
    "#The first and only line of input contains the String S\n",
    "\n",
    "#Output Format\n",
    "#Print the resultant String on a single line.\n",
    "\n",
    "# input : abcdE   output : ABCDe\n",
    "\n",
    "\n",
    "\n",
    "def ConvrtedLetters():\n",
    "    print(s.swapcase())\n",
    "\n",
    "s=input('')\n",
    "    \n",
    "ConvrtedLetters()\n"
   ]
  },
  {
   "cell_type": "code",
   "execution_count": null,
   "metadata": {},
   "outputs": [],
   "source": []
  }
 ],
 "metadata": {
  "kernelspec": {
   "display_name": "Python 3",
   "language": "python",
   "name": "python3"
  }
 },
 "nbformat": 4,
 "nbformat_minor": 2
}
